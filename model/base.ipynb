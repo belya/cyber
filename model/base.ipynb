{
 "cells": [
  {
   "cell_type": "code",
   "execution_count": null,
   "metadata": {},
   "outputs": [],
   "source": [
    "import numpy as np"
   ]
  },
  {
   "cell_type": "code",
   "execution_count": null,
   "metadata": {},
   "outputs": [],
   "source": [
    "import pandas as pd"
   ]
  },
  {
   "cell_type": "code",
   "execution_count": null,
   "metadata": {},
   "outputs": [],
   "source": [
    "import random\n",
    "import string"
   ]
  },
  {
   "cell_type": "code",
   "execution_count": null,
   "metadata": {},
   "outputs": [],
   "source": [
    "from tqdm import tqdm_notebook"
   ]
  },
  {
   "cell_type": "code",
   "execution_count": null,
   "metadata": {},
   "outputs": [],
   "source": [
    "%matplotlib inline\n",
    "import matplotlib.pyplot as plt"
   ]
  },
  {
   "cell_type": "markdown",
   "metadata": {},
   "source": [
    "# Model definitions"
   ]
  },
  {
   "cell_type": "markdown",
   "metadata": {},
   "source": [
    "1. Balances are changing\n",
    "2. Dynamic parameters are chaning\n",
    "3. Bondings are changing\n",
    "4. Total inflation is changing"
   ]
  },
  {
   "cell_type": "code",
   "execution_count": null,
   "metadata": {},
   "outputs": [],
   "source": [
    "def random_string(string_length=10):\n",
    "    \"\"\"Generate a random string of fixed length \"\"\"\n",
    "    letters = string.ascii_lowercase\n",
    "    return ''.join(random.choice(letters) for i in range(string_length))"
   ]
  },
  {
   "cell_type": "code",
   "execution_count": null,
   "metadata": {},
   "outputs": [],
   "source": [
    "class Network():\n",
    "    # Constants\n",
    "    blocks_per_year = 1/3 * 60 * 60 * 24 * 365 \n",
    "    max_inflation = 0.12\n",
    "    min_inflation = 0.5\n",
    "    inflation_rate = 0.1\n",
    "    start_inflation = 0.1\n",
    "    bonding_goal = 0.9\n",
    "    \n",
    "    # Dynamic parameters\n",
    "    block = -1\n",
    "    transactions_reward = 0\n",
    "    inflation = start_inflation\n",
    "    total_bonding = 0\n",
    "    total_balance = 0\n",
    "    \n",
    "    def _create_validators(self):\n",
    "        self.validators = []\n",
    "        # TODO increase validators per year\n",
    "        for i in range(self.validators_amount):\n",
    "            validator = Validator(self)\n",
    "            self.validators.append(validator)\n",
    "    \n",
    "    def _create_agents(self):\n",
    "        self.agents = []\n",
    "        for i in range(self.agents_amount):\n",
    "            agent = Agent(self)\n",
    "            self.agents.append(agent)\n",
    "    \n",
    "    def __init__(self, validators_amount, agents_amount):\n",
    "        self.validators_amount = validators_amount\n",
    "        self.agents_amount = agents_amount\n",
    "        self._create_validators()\n",
    "        self._create_agents()\n",
    "        \n",
    "    def _change_inflation(self):\n",
    "        if (self.block == 0) or (self.block % self.blocks_per_year != 0):\n",
    "            return\n",
    "        \n",
    "        current_bonding_rate = self.total_bonding / self.total_balance\n",
    "\n",
    "        if (self.bonding_goal < current_bonding_rate):\n",
    "            self.inflation -= self.inflation_rate\n",
    "        else:\n",
    "            self.inflation += self.inflation_rate\n",
    "        self.inflation = max(self.min_inflation, min(self.max_inflation, self.inflation))\n",
    "    \n",
    "    def _increase_block(self):\n",
    "        self.block += 1\n",
    "        self._change_inflation()\n",
    "        self.transactions_reward = 0\n",
    "        self.block_reward = self.inflation * self.total_balance / self.blocks_per_year\n",
    "        \n",
    "    def _act_validators(self):\n",
    "        self.total_balance += self.block_reward\n",
    "        for validator in tqdm_notebook(self.validators):\n",
    "            validator.act()\n",
    "            \n",
    "    def _act_agents(self):\n",
    "        for agent in tqdm_notebook(self.agents):\n",
    "            agent.act()\n",
    "            \n",
    "    def act(self):\n",
    "        self._increase_block()\n",
    "        self._act_agents()\n",
    "        self._act_validators()\n",
    "    \n",
    "    # TODO These methods should be moved to proper locations\n",
    "\n",
    "    def get_random_agent(self):\n",
    "        return np.random.choice(self.agents)\n",
    "    \n",
    "    def get_random_validator(self):\n",
    "        return np.random.choice(self.validators)\n",
    "    \n",
    "    def send_transaction(self, sender, receiver, amount, comission):\n",
    "        assert sender.balance >= amount + comission\n",
    "        sender.balance -= amount + comission\n",
    "        receiver.balance += amount\n",
    "        self.transactions_reward += comission\n",
    "        \n",
    "    def bond_validator(self, agent, validator, new_stake):\n",
    "        old_stake = validator.bonding.get(agent, 0)\n",
    "        difference = new_stake - old_stake\n",
    "        assert agent.balance >= difference\n",
    "        agent.balance -= difference\n",
    "        validator.bonding[agent] = new_stake\n",
    "        validator.total_bonding += difference\n",
    "        self.total_bonding += difference\n",
    "        \n",
    "    def get_voting_power(self, validator):\n",
    "        # TODO add cache for voting power\n",
    "        return validator.total_bonding / self.total_bonding\n",
    "    \n",
    "    def claim_tokens(self, agent, amount):\n",
    "        assert agent.genesis_part >= amount\n",
    "        agent.balance += amount\n",
    "        agent.genesis_part -= amount\n",
    "        \n",
    "    def send_reward(self, validator, agent, rate):\n",
    "        agent.balance += validator.reward * rate"
   ]
  },
  {
   "cell_type": "code",
   "execution_count": null,
   "metadata": {},
   "outputs": [],
   "source": [
    "class NetworkParticipant():\n",
    "    network = None\n",
    "    id = None\n",
    "    \n",
    "    def __init__(self, network):\n",
    "        self.network = network\n",
    "        self.id = random_string()"
   ]
  },
  {
   "cell_type": "markdown",
   "metadata": {},
   "source": [
    "Agent:\n",
    "- Genesis state\n",
    "- Balance (total, bonded)\n",
    "- Transaction probability\n",
    "- Bonded validators\n",
    "- Sended transactions"
   ]
  },
  {
   "cell_type": "markdown",
   "metadata": {},
   "source": [
    "Each block for agent\n",
    "1. Claim the rest of tokens\n",
    "2. Do random transactions \n",
    "3. Get reward from validators \n",
    "4. Rebond tokens"
   ]
  },
  {
   "cell_type": "code",
   "execution_count": null,
   "metadata": {},
   "outputs": [],
   "source": [
    "# TODO add agent groups with different claim strategy\n",
    "class Agent(NetworkParticipant):\n",
    "    # Constants\n",
    "    max_comission_rate = 0.1\n",
    "    claim_probability = 0.01\n",
    "    transaction_probability = 0.9\n",
    "    rebond_probability = 0.1\n",
    "    \n",
    "    # Dynamic parameters\n",
    "    genesis_part = 0\n",
    "    balance = 0\n",
    "    \n",
    "    def __init__(self, network, genesis_part=100):\n",
    "        super().__init__(network)\n",
    "        self.genesis_part = genesis_part\n",
    "        \n",
    "    def _claim(self):\n",
    "        if np.random.rand() > self.claim_probability:\n",
    "            return\n",
    "        \n",
    "        amount = np.random.rand() * self.genesis_part\n",
    "        self.network.claim_tokens(self, amount)\n",
    "    \n",
    "    def _do_random_transaction(self):\n",
    "        if np.random.rand() > self.transaction_probability:\n",
    "            return\n",
    "        \n",
    "        receiver = self\n",
    "        while receiver == self:\n",
    "            receiver = self.network.get_random_agent()\n",
    "        total_amount = np.random.rand() * self.balance\n",
    "        comission = np.random.rand() * self.max_comission_rate * total_amount\n",
    "        amount = total_amount - comission\n",
    "        self.network.send_transaction(self, receiver, amount, comission)\n",
    "        \n",
    "    def _rebond_tokens(self):\n",
    "        if np.random.rand() > self.rebond_probability:\n",
    "            return\n",
    "        \n",
    "        validator = self.network.get_random_validator()\n",
    "        amount = np.random.rand() * self.balance\n",
    "        self.network.bond_validator(self, validator, amount)\n",
    "    \n",
    "    def act(self):\n",
    "        self._claim()\n",
    "        self._do_random_transaction()\n",
    "        self._rebond_tokens()"
   ]
  },
  {
   "cell_type": "markdown",
   "metadata": {},
   "source": [
    "Validator:\n",
    "- Comission\n",
    "- Voting power\n",
    "- Slowness probability\n",
    "- Double-spend probability"
   ]
  },
  {
   "cell_type": "markdown",
   "metadata": {},
   "source": [
    "Each block for validator:\n",
    "1. Create\n",
    "2. Update comission\n",
    "3. Gather all transactions reward\n",
    "4. Receive block reward depending on voting power\n",
    "5. Do random event (nothing, double-spend, slowness)"
   ]
  },
  {
   "cell_type": "code",
   "execution_count": null,
   "metadata": {},
   "outputs": [],
   "source": [
    "class Validator(NetworkParticipant):\n",
    "    # Dynamic parameters\n",
    "    comission_rate = 0\n",
    "    total_bonding = 0\n",
    "    reward = 0\n",
    "    \n",
    "    def __init__(self, network):\n",
    "        super().__init__(network)\n",
    "        self.bonding = {}\n",
    "    \n",
    "    def _update_comission(self):\n",
    "        self.comission_rate = np.random.rand()\n",
    "        \n",
    "    def _receive_reward(self):\n",
    "        voting_power = self.network.get_voting_power(self)\n",
    "        self.reward = voting_power * (self.network.block_reward + self.network.transactions_reward)\n",
    "        # TODO move part of reward to validator's owner\n",
    "        self.reward = (1 - self.comission_rate) * self.reward\n",
    "        \n",
    "    def _broadcast_reward(self):\n",
    "        for agent, stake in self.bonding.items():\n",
    "            rate = stake / self.total_bonding\n",
    "            self.network.send_reward(self, agent, rate)\n",
    "            \n",
    "    def act(self):\n",
    "        self._update_comission()\n",
    "        self._receive_reward()\n",
    "        self._broadcast_reward()"
   ]
  },
  {
   "cell_type": "markdown",
   "metadata": {},
   "source": [
    "# Tests"
   ]
  },
  {
   "cell_type": "code",
   "execution_count": null,
   "metadata": {},
   "outputs": [],
   "source": [
    "def assert_catch_exception(test_function, exception_class):\n",
    "    exception_caught = False\n",
    "    try:\n",
    "        test_function()\n",
    "    except exception_class:\n",
    "        exception_caught = True\n",
    "    assert exception_caught"
   ]
  },
  {
   "cell_type": "markdown",
   "metadata": {},
   "source": [
    "## Network"
   ]
  },
  {
   "cell_type": "markdown",
   "metadata": {},
   "source": [
    "Network should create validators and agents when created"
   ]
  },
  {
   "cell_type": "code",
   "execution_count": null,
   "metadata": {},
   "outputs": [],
   "source": [
    "network = Network(1, 1)\n",
    "\n",
    "assert len(network.validators) == 1\n",
    "assert len(network.agents) == 1"
   ]
  },
  {
   "cell_type": "markdown",
   "metadata": {},
   "source": [
    "Network should send transactions"
   ]
  },
  {
   "cell_type": "code",
   "execution_count": null,
   "metadata": {},
   "outputs": [],
   "source": [
    "network = Network(1, 1)\n",
    "\n",
    "sender = Agent(network)\n",
    "sender.balance = 100\n",
    "\n",
    "receiver = Agent(network)\n",
    "receiver.balance = 10\n",
    "\n",
    "network.send_transaction(sender, receiver, 10, 10)\n",
    "assert sender.balance == 100 - 20\n",
    "assert receiver.balance == 10 + 10\n",
    "assert network.transactions_reward == 10\n",
    "\n",
    "network.send_transaction(sender, receiver, 80, 0)\n",
    "assert_catch_exception(\n",
    "    lambda: network.send_transaction(sender, receiver, 80, 10),\n",
    "    AssertionError\n",
    ")"
   ]
  },
  {
   "cell_type": "markdown",
   "metadata": {},
   "source": [
    "Network should bond agent stake to validators"
   ]
  },
  {
   "cell_type": "code",
   "execution_count": null,
   "metadata": {},
   "outputs": [],
   "source": [
    "network = Network(1, 1)\n",
    "\n",
    "validator = Validator(network)\n",
    "assert not validator.bonding\n",
    "\n",
    "agent = Agent(network)\n",
    "agent.balance = 100\n",
    "\n",
    "network.bond_validator(agent, validator, 20)\n",
    "assert validator.bonding[agent] == 20\n",
    "assert agent.balance == 100 - 20\n",
    "assert validator.total_bonding == 20\n",
    "assert network.total_bonding == 20\n",
    "\n",
    "network.bond_validator(agent, validator, 10)\n",
    "assert validator.bonding[agent] == 10\n",
    "assert agent.balance == 100 - 10\n",
    "assert validator.total_bonding == 10\n",
    "assert network.total_bonding == 10\n",
    "\n",
    "network.bond_validator(agent, validator, 100)\n",
    "assert_catch_exception(\n",
    "    lambda: network.bond_validator(agent, validator, 110),\n",
    "    AssertionError\n",
    ")"
   ]
  },
  {
   "cell_type": "markdown",
   "metadata": {},
   "source": [
    "Network should return voting power for each validator"
   ]
  },
  {
   "cell_type": "code",
   "execution_count": null,
   "metadata": {},
   "outputs": [],
   "source": [
    "network = Network(1, 1)\n",
    "\n",
    "validator1 = Validator(network)\n",
    "validator2 = Validator(network)\n",
    "\n",
    "agent1 = Agent(network)\n",
    "agent1.balance = 100\n",
    "\n",
    "agent2 = Agent(network)\n",
    "agent2.balance = 100\n",
    "\n",
    "agent3 = Agent(network)\n",
    "agent3.balance = 100\n",
    "\n",
    "network.bond_validator(agent1, validator1, 10)\n",
    "network.bond_validator(agent2, validator1, 10)\n",
    "network.bond_validator(agent3, validator2, 10)\n",
    "\n",
    "# print(network.get_voting_power(validator1))\n",
    "assert network.get_voting_power(validator1) == 20 / 30\n",
    "assert network.get_voting_power(validator2) == 10 / 30"
   ]
  },
  {
   "cell_type": "markdown",
   "metadata": {},
   "source": [
    "Network should send reward from validator to agent"
   ]
  },
  {
   "cell_type": "code",
   "execution_count": null,
   "metadata": {},
   "outputs": [],
   "source": [
    "network = Network(1, 1)\n",
    "\n",
    "validator = Validator(network)\n",
    "validator.reward = 200\n",
    "\n",
    "agent = Agent(network)\n",
    "agent.balance = 10\n",
    "\n",
    "network.send_reward(validator, agent, 0.1)\n",
    "\n",
    "assert agent.balance == 10 + 0.1 * 200"
   ]
  },
  {
   "cell_type": "markdown",
   "metadata": {},
   "source": [
    "Network should increase block"
   ]
  },
  {
   "cell_type": "code",
   "execution_count": null,
   "metadata": {},
   "outputs": [],
   "source": [
    "network = Network(1, 1)\n",
    "\n",
    "network._increase_block()\n",
    "assert network.block == 0\n",
    "\n",
    "network._increase_block()\n",
    "assert network.block == 1"
   ]
  },
  {
   "cell_type": "markdown",
   "metadata": {},
   "source": [
    "Network should reset transactions reward after increase"
   ]
  },
  {
   "cell_type": "code",
   "execution_count": null,
   "metadata": {},
   "outputs": [],
   "source": [
    "network = Network(1, 1)\n",
    "network.transactions_reward = None\n",
    "\n",
    "network._increase_block()\n",
    "assert network.transactions_reward == 0"
   ]
  },
  {
   "cell_type": "markdown",
   "metadata": {},
   "source": [
    "Network should recount block reward after increase"
   ]
  },
  {
   "cell_type": "code",
   "execution_count": null,
   "metadata": {},
   "outputs": [],
   "source": [
    "network = Network(1, 1)\n",
    "network.inflation = 0.1\n",
    "network.blocks_per_year = 2\n",
    "network.total_balance = 100\n",
    "network.block_reward = None\n",
    "\n",
    "network._increase_block()\n",
    "assert network.block_reward == 0.1 * 100 / 2"
   ]
  },
  {
   "cell_type": "markdown",
   "metadata": {},
   "source": [
    "Network should recount inflation each year depending on total bonding and total balance"
   ]
  },
  {
   "cell_type": "code",
   "execution_count": null,
   "metadata": {},
   "outputs": [],
   "source": [
    "network = Network(1, 1)\n",
    "network.start_inflation = 0.1\n",
    "network.max_inflation = 0.2\n",
    "network.min_inflation = 0.0\n",
    "network.inflation_rate = 0.1\n",
    "network.blocks_per_year = 2\n",
    "network.bonding_goal = 0.5\n",
    "\n",
    "network.total_bonding = 0\n",
    "network.total_balance = 100\n",
    "\n",
    "# Initial inflation is equal to start one\n",
    "network._increase_block()\n",
    "assert network.inflation == 0.1\n",
    "\n",
    "# Do not change inflation during a year\n",
    "network._increase_block()\n",
    "assert network.inflation == 0.1\n",
    "\n",
    "# Increase inflation by defined rate when bonding rate is too low\n",
    "network._increase_block()\n",
    "assert network.inflation == 0.1 + 0.1\n",
    "\n",
    "# Do not change inflation more than max\n",
    "network._increase_block()\n",
    "network._increase_block()\n",
    "assert network.inflation == 0.2\n",
    "\n",
    "network.total_bonding = 55\n",
    "network.total_balance = 100\n",
    "\n",
    "# Decrease inflation by defined rate when bonding rate is too low\n",
    "network._increase_block()\n",
    "network._increase_block()\n",
    "network._increase_block()\n",
    "network._increase_block()\n",
    "assert network.inflation == 0.2 - 0.1 - 0.1\n",
    "\n",
    "# Do not change inflation less than min\n",
    "network._increase_block()\n",
    "network._increase_block()\n",
    "assert network.inflation == 0.0"
   ]
  },
  {
   "cell_type": "markdown",
   "metadata": {},
   "source": [
    "Network should return random agent"
   ]
  },
  {
   "cell_type": "code",
   "execution_count": null,
   "metadata": {},
   "outputs": [],
   "source": [
    "network = Network(1, 2)\n",
    "assert network.get_random_agent() in network.agents"
   ]
  },
  {
   "cell_type": "markdown",
   "metadata": {},
   "source": [
    "Network should return random validator"
   ]
  },
  {
   "cell_type": "code",
   "execution_count": null,
   "metadata": {},
   "outputs": [],
   "source": [
    "network = Network(2, 1)\n",
    "assert network.get_random_validator() in network.validators"
   ]
  },
  {
   "cell_type": "markdown",
   "metadata": {},
   "source": [
    "Network should claim agent tokens"
   ]
  },
  {
   "cell_type": "code",
   "execution_count": null,
   "metadata": {},
   "outputs": [],
   "source": [
    "network = Network(1, 1)\n",
    "agent = Agent(network)\n",
    "agent.genesis_part = 10\n",
    "\n",
    "network.claim_tokens(agent, 5)\n",
    "assert agent.genesis_part == 5\n",
    "assert agent.balance == 5\n",
    "\n",
    "assert_catch_exception(\n",
    "    lambda: network.claim_tokens(agent, 6),\n",
    "    AssertionError\n",
    ")"
   ]
  },
  {
   "cell_type": "markdown",
   "metadata": {},
   "source": [
    "## Agent"
   ]
  },
  {
   "cell_type": "markdown",
   "metadata": {},
   "source": [
    "Agent should send nonzero random transaction to another agent"
   ]
  },
  {
   "cell_type": "code",
   "execution_count": null,
   "metadata": {},
   "outputs": [],
   "source": [
    "network = Network(1, 2)\n",
    "agent = network.agents[0]\n",
    "\n",
    "agent.transaction_probability = 1\n",
    "agent.balance = 100\n",
    "old_balance = agent.balance\n",
    "\n",
    "agent._do_random_transaction()\n",
    "    \n",
    "assert agent.balance < 100\n",
    "assert network.agents[1].balance > 0"
   ]
  },
  {
   "cell_type": "markdown",
   "metadata": {},
   "source": [
    "Agent should rebond tokens randomly"
   ]
  },
  {
   "cell_type": "code",
   "execution_count": null,
   "metadata": {},
   "outputs": [],
   "source": [
    "network = Network(1, 1)\n",
    "agent = network.agents[0]\n",
    "validator = network.validators[0]\n",
    "\n",
    "agent.rebond_probability = 1\n",
    "agent.balance = 100\n",
    "old_balance = agent.balance\n",
    "\n",
    "agent._rebond_tokens()\n",
    "    \n",
    "assert agent.balance < 100\n",
    "assert validator.bonding[agent] > 0"
   ]
  },
  {
   "cell_type": "markdown",
   "metadata": {},
   "source": [
    "Agent should claim tokens"
   ]
  },
  {
   "cell_type": "code",
   "execution_count": null,
   "metadata": {},
   "outputs": [],
   "source": [
    "network = Network(1, 1)\n",
    "agent = network.agents[0]\n",
    "assert agent.balance == 0\n",
    "\n",
    "agent.claim_probability = 1\n",
    "agent.genesis_part = 100\n",
    "\n",
    "agent._claim()\n",
    "    \n",
    "assert agent.balance > 0\n",
    "assert agent.genesis_part < 100"
   ]
  },
  {
   "cell_type": "markdown",
   "metadata": {},
   "source": [
    "## Validator"
   ]
  },
  {
   "cell_type": "markdown",
   "metadata": {},
   "source": [
    "Validator should update comission"
   ]
  },
  {
   "cell_type": "code",
   "execution_count": null,
   "metadata": {},
   "outputs": [],
   "source": [
    "network = Network(1, 1)\n",
    "validator = network.validators[0]\n",
    "\n",
    "old_comission_rate = validator.comission_rate\n",
    "\n",
    "validator._update_comission()\n",
    "assert validator.comission_rate != old_comission_rate"
   ]
  },
  {
   "cell_type": "markdown",
   "metadata": {},
   "source": [
    "Validator should receive reward"
   ]
  },
  {
   "cell_type": "code",
   "execution_count": null,
   "metadata": {},
   "outputs": [],
   "source": [
    "network = Network(1, 1)\n",
    "validator = network.validators[0]\n",
    "network.get_voting_power = lambda x: 0.1\n",
    "network.block_reward = 100\n",
    "network.transactions_reward = 200\n",
    "validator.comission_rate = 0.1\n",
    "\n",
    "validator._receive_reward()\n",
    "assert round(validator.reward) == round((1 - 0.1) * 0.1 * (100 + 200))"
   ]
  },
  {
   "cell_type": "markdown",
   "metadata": {},
   "source": [
    "Validator should send reward to all bonded agents depending on their rates"
   ]
  },
  {
   "cell_type": "code",
   "execution_count": null,
   "metadata": {},
   "outputs": [],
   "source": [
    "network = Network(1, 2)\n",
    "validator = network.validators[0]\n",
    "agent1 = network.agents[0]\n",
    "agent2 = network.agents[1]\n",
    "\n",
    "agent1.balance = 100\n",
    "agent2.balance = 100\n",
    "\n",
    "network.bond_validator(agent1, validator, 1)\n",
    "network.bond_validator(agent2, validator, 4)\n",
    "\n",
    "validator.reward = 20\n",
    "\n",
    "validator._broadcast_reward()\n",
    "assert agent1.balance == (100 - 1) + 20 * 1 / 5\n",
    "assert agent2.balance == (100 - 4) + 20 * 4 / 5"
   ]
  },
  {
   "cell_type": "markdown",
   "metadata": {},
   "source": [
    "# Big network evaluation"
   ]
  },
  {
   "cell_type": "code",
   "execution_count": null,
   "metadata": {},
   "outputs": [],
   "source": [
    "network = Network(100, 100)"
   ]
  },
  {
   "cell_type": "code",
   "execution_count": null,
   "metadata": {},
   "outputs": [],
   "source": [
    "for i in tqdm_notebook(range(100)):\n",
    "    network.act()"
   ]
  },
  {
   "cell_type": "markdown",
   "metadata": {},
   "source": [
    "# Visualization"
   ]
  },
  {
   "cell_type": "code",
   "execution_count": null,
   "metadata": {},
   "outputs": [],
   "source": [
    "# Target value graph\n",
    "# - For each group - count total balance during some years"
   ]
  },
  {
   "cell_type": "code",
   "execution_count": null,
   "metadata": {},
   "outputs": [],
   "source": [
    "# Requirements\n",
    "# 50% of genesis are diluted in 5 years\n",
    "# 10x of genesis are diluted in 100 years"
   ]
  }
 ],
 "metadata": {
  "jupytext": {
   "formats": "ipynb,py"
  },
  "kernelspec": {
   "display_name": "Python 3",
   "language": "python",
   "name": "python3"
  },
  "language_info": {
   "codemirror_mode": {
    "name": "ipython",
    "version": 3
   },
   "file_extension": ".py",
   "mimetype": "text/x-python",
   "name": "python",
   "nbconvert_exporter": "python",
   "pygments_lexer": "ipython3",
   "version": "3.5.2"
  }
 },
 "nbformat": 4,
 "nbformat_minor": 2
}
